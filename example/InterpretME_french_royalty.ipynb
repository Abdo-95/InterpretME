{
 "cells": [
  {
   "cell_type": "markdown",
   "id": "16d2e2c5",
   "metadata": {},
   "source": [
    "# Interpretable ML over an Extended Version of  the French Royalty KG"
   ]
  },
  {
   "cell_type": "markdown",
   "id": "167e8317",
   "metadata": {},
   "source": [
    "This an example on how **InterpretME** can be used to interpret the prediction and trace back a particular target entity. The KG of the *French Royalty Benchmark* is a fully curated subset of DBpedia; for each person we added the class `dbo:Person` as well as different properties like the number of children or predecessors, and further triple related counts. Here, the predictive task is a binary classification to predict whether a person has a spouse. The statistics of the *French Royalty KG* are presented in the following:"
   ]
  },
  {
   "cell_type": "markdown",
   "id": "5774cfe1",
   "metadata": {},
   "source": [
    "| #triples | #entities | #predicates | #objects | #triples / #entities |\n",
    "| :-: | :-: | :-: | :-: | :-: |\n",
    "| 31,573 | 3,430 | 131 | 4,384 | 9,20 |"
   ]
  },
  {
   "cell_type": "markdown",
   "id": "8b60a372",
   "metadata": {},
   "source": [
    "## Let's Start with Essentials for this Tutorial Notebook"
   ]
  },
  {
   "cell_type": "code",
   "execution_count": null,
   "id": "1938629d",
   "metadata": {},
   "outputs": [],
   "source": [
    "pip install InterpretME"
   ]
  },
  {
   "cell_type": "code",
   "execution_count": null,
   "id": "1d0d1777",
   "metadata": {},
   "outputs": [],
   "source": [
    "%load_ext autoreload\n",
    "%autoreload 2\n",
    "%matplotlib inline"
   ]
  },
  {
   "cell_type": "markdown",
   "id": "38e8c33a",
   "metadata": {},
   "source": [
    "**Note:** You may need to restart the kernel to use the updated packages!"
   ]
  },
  {
   "cell_type": "markdown",
   "id": "851cffd5",
   "metadata": {},
   "source": [
    "The mechanism of InterpretME is as follows:<br>\n",
    "<ol>\n",
    "  <li>SHACL validation</li>\n",
    "  <li>Data preprocessing</li>\n",
    "  <li>Training of the predictive model</li>\n",
    "  <li>Understanding the results of interpretability models (e.g., LIME)</li>\n",
    "  <li>Semantify collected metadata</li>\n",
    "  <li>Uploading semantified metadata into Virtuoso</li>\n",
    "  <li>Querying the InterpretME KG and input KG to trace back all properties of a particular entity</li>\n",
    "</ol>"
   ]
  },
  {
   "cell_type": "markdown",
   "id": "3139443b",
   "metadata": {},
   "source": [
    "The **French Royalty KG** is accessible via a public endpoint: https://labs.tib.eu/sdm/InterpretME-og/sparql."
   ]
  },
  {
   "cell_type": "markdown",
   "id": "a47ef681",
   "metadata": {},
   "source": [
    "**Note**: If you don't have Docker (and docker-compose) installed. Please, follow the instructions according to configuration of your machine.\n",
    "\n",
    "`Linux`:\n",
    "\thttps://docs.docker.com/desktop/install/linux-install/<br>\n",
    "`Windows`:\n",
    "\thttps://docs.docker.com/docker-for-windows/install/<br>\n",
    "`Mac`:\n",
    "\thttps://docs.docker.com/docker-for-mac/install/\n"
   ]
  },
  {
   "cell_type": "markdown",
   "id": "4f4f1a31",
   "metadata": {},
   "source": [
    "To get started with the **KG**, you need to start the containers:"
   ]
  },
  {
   "cell_type": "code",
   "execution_count": null,
   "id": "4adcc31a",
   "metadata": {},
   "outputs": [],
   "source": [
    "!docker-compose up -d"
   ]
  },
  {
   "cell_type": "markdown",
   "id": "eb33924b",
   "metadata": {},
   "source": [
    "Importing required modules from **InterpretME** library:\n",
    "\n",
    "* `pipeline()`: Run the predictive tasks and interpretation tools (e.g., LIME).\n",
    "* `plots.sampling()`: Generates plot of the target class distribution.\n",
    "* `plots.feature_importance()`: Creates bar plot of important features.\n",
    "* `plots.decision_trees()`: Generates trees of predictions made by predictive model.\n",
    "* `plots.constraints_decision_trees()`: Trees are incorporated with SHACL validation results.\n",
    "* `federated()`: Query the *InterpretME KG* and the input KG to trace back all properties of a target entity.\n"
   ]
  },
  {
   "cell_type": "code",
   "execution_count": null,
   "id": "568d812b",
   "metadata": {},
   "outputs": [],
   "source": [
    "from InterpretME import *"
   ]
  },
  {
   "cell_type": "code",
   "execution_count": null,
   "id": "6e9d9c8e",
   "metadata": {},
   "outputs": [],
   "source": [
    "pip install six==1.12.0"
   ]
  },
  {
   "cell_type": "markdown",
   "id": "7b438562",
   "metadata": {},
   "source": [
    "**InterpretME** takes a JSON file as input (i.e., *URL of the input KG, features’ definition, target definition, SHACL constraints, sampling strategy, class definition*); a `SPARQL query` is generated based on the feature definition given by the user and the query is used to retrieve the application domain data from the input KG."
   ]
  },
  {
   "cell_type": "markdown",
   "id": "59ca3c77",
   "metadata": {},
   "source": [
    "Given the input **KG** that integrates the features’ and class target definitions about French Royalty; and their SHACL constraints. The features’ definition is classified into independent and dependent variables; later used in the predictive modeling pipeline. The features can be defined in the following format:\n",
    "\n",
    "```JSON\n",
    "{\n",
    "  \"Endpoint\": \"https://localhost:8892/sparql\",\n",
    "  \"Index_var\": \"Person\",\n",
    "  \"Independent_variable\": {\n",
    "    \"x\": \"?x a <http://dbpedia.org/ontology/Person>.\\n \",\n",
    "    \"gender\": \"Optional { ?x <http://dbpedia.org/ontology/gender> ?gender }\"},\n",
    "  \"Dependent_variable\": {\n",
    "    \"HasSpouse\": \"{ SELECT ?x, ((?partners > 0) AS ?HasSpouse) WHERE { ?x <http://dbpedia.org/ontology/numSpouses> ?partners . }} \\n\"}\n",
    "  \"Constraints\": [{\n",
    "    \"name\": \"C1\",\n",
    "    \"inverted\": false,\n",
    "    \"shape_schema_dir\": \"example/shapes/french_royalty/spouse/rule1\",\n",
    "    \"target_shape\": \"Spouse\"\n",
    "  }]\n",
    "  \"sampling_strategy\": \"undersampling\",\n",
    "  \"number_important_features\": 5,\n",
    "  \"cross_validation_folds\": 5\n",
    "}\n",
    "```"
   ]
  },
  {
   "cell_type": "markdown",
   "id": "94e89fd3",
   "metadata": {},
   "source": [
    "The purpose of `pipeline()` is to assemble several components of **InterpretME** that can be evaluated together while setting different parameters. First, it starts with evaluating the SHACL constraints over the nodes of input KGs and generates a validation report per target entity. This report shows if a particular entity validates/invalidate the constraints defined by the user. "
   ]
  },
  {
   "cell_type": "markdown",
   "id": "d79a2b0f",
   "metadata": {},
   "source": [
    "The *data preprocessing* step includes transforming the data extracted from the input KG into a form that can be used to train the predictive pipeline. To avoid imbalance, the sampling strategy defined by the user is deployed. To handle categorical values from data, one-hot encoding is utilized."
   ]
  },
  {
   "cell_type": "markdown",
   "id": "3e3c5a5b",
   "metadata": {},
   "source": [
    "The *predictive model building* step can be achieved based on user preferences. Given the French Royalty preprocessed data, automated tools are utilized for models (e.g., *Ensemble Learning*) and to optimize the hyperparameter selection for predictive tasks. "
   ]
  },
  {
   "cell_type": "markdown",
   "id": "c7ff7c70",
   "metadata": {},
   "source": [
    "Here, the automated predictive model can perform stratified shuffle split cross-validation with *Random Forest*, *Adaboost Classifier*, or *Gradient Boosting Classifier* and identify the relevant features; they are used to train a *Decision Tree* classifier to predict and visualize the outcomes."
   ]
  },
  {
   "cell_type": "markdown",
   "id": "2a901cc0",
   "metadata": {},
   "source": [
    "In this step, the metadata collected are the features' definition, trained model, hyperparameters, predictions, precision, recall, classification report, as well as confusion matrix files generated from the trained predictive model. The metadata are later used in the creation of InterpretME KG."
   ]
  },
  {
   "cell_type": "markdown",
   "id": "4f5c182d",
   "metadata": {},
   "source": [
    "The current version of InterpretME uses *LIME* [1] to have local interpretations of the target entities.\n",
    "*LIME* also identifies the top-10 relevant features for the target entity and assigns weights. The results allow the user to understand the quality of the predictive model."
   ]
  },
  {
   "cell_type": "markdown",
   "id": "81e1e03e",
   "metadata": {},
   "source": [
    "The RDF mapping language (RML) is used to define mappings for the metadata collected from the predictive pipeline in order to integrate them into the **InterpretME KG**.\n",
    "The RML mappings are used by the SDM-RDFizer [2], an efficient RML engine for creating knowledge graphs, to semantify the metadata. InterpretME relies on **FAIR** principles for defining the *InterpretME ontology* by extending *ML schema*; it is available on [VoCol](http://ontology.tib.eu/InterpretME/)."
   ]
  },
  {
   "cell_type": "markdown",
   "id": "c56989a8",
   "metadata": {},
   "source": [
    "The generated RDF data will be uploaded to an instance of *Virtuoso*."
   ]
  },
  {
   "cell_type": "code",
   "execution_count": null,
   "id": "0172ae9c",
   "metadata": {},
   "outputs": [],
   "source": [
    "results = pipeline(path_config='./example.json', sampling='undersampling', cv=5, imp_features=15, test_split=0.3, model='Random Forest', lime_results='./LIME')"
   ]
  },
  {
   "cell_type": "code",
   "execution_count": null,
   "id": "40ea6cae",
   "metadata": {},
   "outputs": [],
   "source": [
    "pip freeze"
   ]
  },
  {
   "cell_type": "markdown",
   "id": "f8c828f1",
   "metadata": {},
   "source": [
    "### Exploration of Predictive Results via Decision Trees"
   ]
  },
  {
   "cell_type": "markdown",
   "id": "88eacff7",
   "metadata": {},
   "source": [
    "To understand the trained predictive model's decisions, an automated model is deployed and a visualization of the prediction is performed via *Decision Trees*. Here, the user can also visualize SHACL constraints with decision trees which shows entities violating the constraints/validating constraints. "
   ]
  },
  {
   "cell_type": "markdown",
   "id": "3e5379fd",
   "metadata": {},
   "source": [
    "The user can provide the path where to store the output plots, like sampling strategy (target class distribution), feature importance, and decision trees."
   ]
  },
  {
   "cell_type": "markdown",
   "id": "51c9748d",
   "metadata": {},
   "source": [
    "#### Sampling"
   ]
  },
  {
   "cell_type": "code",
   "execution_count": null,
   "id": "d1e132f8",
   "metadata": {},
   "outputs": [],
   "source": [
    "plots.sampling(results=results, path='./output/')"
   ]
  },
  {
   "cell_type": "markdown",
   "id": "8edfb4b4",
   "metadata": {},
   "source": [
    "#### Feature Importance"
   ]
  },
  {
   "cell_type": "code",
   "execution_count": null,
   "id": "1fd687f4",
   "metadata": {},
   "outputs": [],
   "source": [
    "plots.feature_importance(results=results, path='./output/')"
   ]
  },
  {
   "cell_type": "markdown",
   "id": "5004a9e6",
   "metadata": {},
   "source": [
    "#### Decision Trees"
   ]
  },
  {
   "cell_type": "code",
   "execution_count": null,
   "id": "868676a8",
   "metadata": {},
   "outputs": [],
   "source": [
    "plots.decision_trees(results=results, path='./output/')"
   ]
  },
  {
   "cell_type": "markdown",
   "id": "8d953304",
   "metadata": {},
   "source": [
    "#### Decision Trees with Constraint Validation"
   ]
  },
  {
   "cell_type": "code",
   "execution_count": null,
   "id": "36b626fd",
   "metadata": {},
   "outputs": [],
   "source": [
    "plots.constraints_decision_trees(results=results, path='./output/', constraint_num=[3])"
   ]
  },
  {
   "cell_type": "markdown",
   "id": "490c2e4d",
   "metadata": {},
   "source": [
    "### Federated Query Processing"
   ]
  },
  {
   "cell_type": "markdown",
   "id": "de7620bc",
   "metadata": {},
   "source": [
    "After uploading the semantified results to the InterpretME KG, [DeTrusty](https://github.com/SDM-TIB/DeTrusty) [3] is utilized to answer the user's questions via SPARQL queries over **both** the input KG and the *InterpretME KG*. In `./queries/french_royalty` you can find templates for answering the following questions:\n",
    "1. Which is the target entity interpreted by LIME?\n",
    "2. How does ***feature*** contribute to the classification of this entity in class ***class***\n",
    "3. Which other features are relevant for this classification?\n",
    "4. Does this target entity satisfy the domain integrity constraints?\n",
    "5. What are the main characteristics of the target entity?"
   ]
  },
  {
   "cell_type": "code",
   "execution_count": null,
   "id": "23affc5a",
   "metadata": {},
   "outputs": [],
   "source": [
    "from InterpretME.federated_query_engine import configuration, federated"
   ]
  },
  {
   "cell_type": "code",
   "execution_count": null,
   "id": "1a98e26b",
   "metadata": {},
   "outputs": [],
   "source": [
    "input_query = \"\"\"\n",
    "SELECT DISTINCT ?sourceEntity ?InterpretableTool ?feature ?value ?targetClass ?probability\n",
    "WHERE {\n",
    "    SERVICE <http://interpretmekg:8890/sparql> {\n",
    "        FILTER( ?LIMEentity=<http://interpretme.org/entity/Louis_XIV> )\n",
    "        ?entity a <http://interpretme.org/vocab/TargetEntity> .\n",
    "        ?entity <http://www.w3.org/2002/07/owl#sameAs> ?sourceEntity .\n",
    "        ?entity <http://interpretme.org/vocab/hasEntity> ?LIMEentity .\n",
    "        ?entity <http://interpretme.org/vocab/hasInterpretedFeature> ?interpretedFeature .\n",
    "        ?interpretedFeature <http://interpretme.org/vocab/hasFeatureWeight> ?featureWeight .\n",
    "        ?interpretedFeature <http://www.w3.org/ns/prov#hasGeneratedBy> ?InterpretableTool .\n",
    "        ?entity <http://interpretme.org/vocab/hasEntityClassProbability> ?classProb .\n",
    "        ?classProb <http://interpretme.org/vocab/hasPredictionProbability> ?probability .\n",
    "        ?classProb <http://interpretme.org/vocab/hasClass> ?targetClass .\n",
    "        ?featureWeight <http://interpretme.org/vocab/hasFeature> ?feature .\n",
    "        ?featureWeight <http://interpretme.org/vocab/hasWeight> ?value .\n",
    "    }\n",
    "}\n",
    "\"\"\"\n"
   ]
  },
  {
   "cell_type": "code",
   "execution_count": null,
   "id": "26695363",
   "metadata": {},
   "outputs": [],
   "source": [
    "interpretme_endpoint = 'http://localhost:8891/sparql'\n",
    "input_endpoint = 'http://localhost:8892/sparql'"
   ]
  },
  {
   "cell_type": "code",
   "execution_count": null,
   "id": "78cd9627",
   "metadata": {},
   "outputs": [],
   "source": [
    "config = configuration(interpretme_endpoint, input_endpoint)\n",
    "query_answer = federated(input_query, config)"
   ]
  },
  {
   "cell_type": "code",
   "execution_count": null,
   "id": "4af1584b",
   "metadata": {},
   "outputs": [],
   "source": [
    "query_answer"
   ]
  },
  {
   "cell_type": "markdown",
   "id": "9e95a0e8",
   "metadata": {},
   "source": [
    "------------\n",
    "**References**\n",
    "\n",
    "[1] Marco Ribeiro, Sameer Singh, and Carlos Guestrin. \"Why Should I Trust You?\": Explaining the Predictions of Any Classifier. In: Proceedings of the 22nd ACM SIGKDD International Conference on Knowledge Discovery and Data Mining (KDD '16). ACM. 2016. DOI: [10.1145/2939672.2939778](https://dl.acm.org/doi/10.1145/2939672.2939778).\n",
    "\n",
    "[2] E. Iglesias, S. Jozashoori, D. Chaves-Fraga, D. Collarana and M.-E. Vidal. SDM-RDFizer: An RML Interpreter for the Efficient Creation of RDF Knowledge Graphs. In: CIKM ’20:Proceedings of the 29th ACM International Conference on Information & Knowledge Management, ACM, New York, NY,USA, 2020. DOI: [10.1145/3340531.3412881](https://dl.acm.org/doi/pdf/10.1145/3340531.3412881).\n",
    "\n",
    "[3] P.D. Rohde. DeTrusty v0.6.1, August 2022. DOI: [10.5281/zenodo.6998001](https://doi.org/10.5281/zenodo.6998001)."
   ]
  }
 ],
 "metadata": {
  "kernelspec": {
   "display_name": "Python 3 (ipykernel)",
   "language": "python",
   "name": "python3"
  },
  "language_info": {
   "codemirror_mode": {
    "name": "ipython",
    "version": 3
   },
   "file_extension": ".py",
   "mimetype": "text/x-python",
   "name": "python",
   "nbconvert_exporter": "python",
   "pygments_lexer": "ipython3",
   "version": "3.8.13"
  }
 },
 "nbformat": 4,
 "nbformat_minor": 5
}
